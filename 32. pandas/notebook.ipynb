{
 "cells": [
  {
   "cell_type": "code",
   "execution_count": 22,
   "metadata": {},
   "outputs": [
    {
     "name": "stdout",
     "output_type": "stream",
     "text": [
      "CustomerKey         0\n",
      "Prefix            130\n",
      "FirstName           0\n",
      "LastName            0\n",
      "BirthDate           0\n",
      "MaritalStatus       0\n",
      "Gender            130\n",
      "EmailAddress        0\n",
      "AnnualIncome        0\n",
      "TotalChildren       0\n",
      "EducationLevel      0\n",
      "Occupation          0\n",
      "HomeOwner           0\n",
      "dtype: int64\n"
     ]
    }
   ],
   "source": [
    "import pandas as pd \n",
    "\n",
    "# stud = {\n",
    "#     'id': [22,33,44], \n",
    "#     'name': ['ahamd', 'khalil' , 'haris'], \n",
    "#     'score': [89 , 79 , 10 ], \n",
    "#     'age': [18 , 20 , 25]\n",
    "# }\n",
    "\n",
    "# df = pd.DataFrame(stud)\n",
    " \n",
    "data = pd.read_csv('Customers_Data.csv')\n",
    "\n",
    " \n",
    "\n",
    "# data = pd.read_excel('expense.xlsx')\n",
    "\n",
    "\n",
    "# # explore data \n",
    "# print(data.head(20))\n",
    "# print(data.tail(3))\n",
    "# print(data.info())\n",
    "# print(data.describe())\n",
    "print( data.isnull().sum())\n",
    " \n",
    "\n",
    "\n",
    "\n"
   ]
  },
  {
   "cell_type": "code",
   "execution_count": 32,
   "metadata": {},
   "outputs": [
    {
     "name": "stdout",
     "output_type": "stream",
     "text": [
      "duplicated data in EEDI: 2\n",
      "    EEID      Name gender   salary\n",
      "0  EMP01    ayushi      F      NaN\n",
      "1  EMP02     rohit      M  25000.0\n",
      "2  EMP03  pranjali    NaN  27000.0\n",
      "3  EMP01    ayushi      F  20000.0\n",
      "4  EMP05       NaN      M  25000.0\n",
      "5  EMP06     rohit      M      NaN\n",
      "6  EMP02     rohit      M  25000.0\n"
     ]
    }
   ],
   "source": [
    "import pandas as pd \n",
    "\n",
    "#handling duplicate values \n",
    "data = pd.read_csv('company1.csv')\n",
    "\n",
    " \n",
    "\n",
    "# print(f\"duplicated data in EEDI: {data['EEID'].duplicated().sum()}\" )\n",
    "# print(data.count())\n",
    "# print(data['Name'].duplicated())\n",
    "print(data)\n"
   ]
  },
  {
   "cell_type": "code",
   "execution_count": 38,
   "metadata": {},
   "outputs": [
    {
     "name": "stdout",
     "output_type": "stream",
     "text": [
      "    EEID      Name gender   salary\n",
      "0  EMP01    ayushi      F      NaN\n",
      "1  EMP02     rohit      M  25000.0\n",
      "2  EMP03  pranjali    NaN  27000.0\n",
      "3  EMP01    ayushi   <NA>  20000.0\n",
      "4  EMP05       NaN   <NA>  25000.0\n",
      "5  EMP06     rohit   <NA>      NaN\n",
      "6  EMP02     rohit   <NA>  25000.0\n"
     ]
    }
   ],
   "source": [
    "data = pd.read_csv('company1.csv')\n",
    "\n",
    "# data = data.drop_duplicates('EEID')\n",
    "# data = data.drop_duplicates('salary')\n",
    " \n",
    "# print(data)\n",
    " \n",
    "# print(data['salary'].duplicated().sum())\n",
    " \n",
    "# data['gender'] = data['gender'].where(~data['gender'].duplicated(), other=pd.NA)\n",
    "# data.loc[data['EEID'].duplicated(), 'EEID'] = 'n/a'\n",
    "\n",
    "print(data)\n",
    "# print(data['EEID'].duplicated().sum())\n",
    "\n",
    " "
   ]
  },
  {
   "cell_type": "code",
   "execution_count": 40,
   "metadata": {},
   "outputs": [
    {
     "name": "stdout",
     "output_type": "stream",
     "text": [
      "EEID      0\n",
      "Name      1\n",
      "gender    1\n",
      "salary    2\n",
      "dtype: int64\n"
     ]
    }
   ],
   "source": [
    "\n",
    "\n",
    "#handing missing data \n",
    "hmd = pd.read_csv('company1.csv')\n",
    "\n",
    "# print(hmd.isnull())\n",
    "print(hmd.isnull().sum())\n",
    "# print(hmd)"
   ]
  },
  {
   "cell_type": "code",
   "execution_count": 41,
   "metadata": {},
   "outputs": [
    {
     "name": "stdout",
     "output_type": "stream",
     "text": [
      "    EEID      Name gender   salary\n",
      "0  EMP01    ayushi      F      NaN\n",
      "1  EMP02     rohit      M  25000.0\n",
      "2  EMP03  pranjali    NaN  27000.0\n",
      "3  EMP01    ayushi      F  20000.0\n",
      "4  EMP05       NaN      M  25000.0\n",
      "5  EMP06     rohit      M      NaN\n",
      "6  EMP02     rohit      M  25000.0\n",
      "    EEID    Name gender   salary\n",
      "1  EMP02   rohit      M  25000.0\n",
      "3  EMP01  ayushi      F  20000.0\n",
      "6  EMP02   rohit      M  25000.0\n"
     ]
    }
   ],
   "source": [
    "hmd = pd.read_csv('company1.csv')\n",
    "print(hmd)\n",
    "print(hmd.dropna()) # drop null values "
   ]
  },
  {
   "cell_type": "code",
   "execution_count": 46,
   "metadata": {},
   "outputs": [
    {
     "name": "stdout",
     "output_type": "stream",
     "text": [
      "    EEID      Name gender   salary\n",
      "0  EMP01    ayushi      F      0.0\n",
      "1  EMP02     rohit      M  25000.0\n",
      "2  EMP03  pranjali    NaN  27000.0\n",
      "3  EMP01    ayushi      F  20000.0\n",
      "4  EMP05   no-name      M  25000.0\n",
      "5  EMP06     rohit      M      0.0\n",
      "6  EMP02     rohit      M  25000.0\n"
     ]
    }
   ],
   "source": [
    "# replace null values\n",
    "import numpy as np\n",
    "hmd = pd.read_csv('company1.csv')\n",
    "\n",
    "hmd['Name'] = hmd['Name'].replace(np.nan , 'no-name')\n",
    "hmd['salary'] = hmd['salary'].replace(np.nan , 0)\n",
    "\n",
    "# print(hmd.replace(np.nan , 'n/a'))\n",
    "# # print(hmd.replace(np.nan , 'default_value'))\n",
    "print(hmd)\n"
   ]
  },
  {
   "cell_type": "code",
   "execution_count": 49,
   "metadata": {},
   "outputs": [
    {
     "name": "stdout",
     "output_type": "stream",
     "text": [
      "    EEID      Name gender   salary\n",
      "0  EMP01    ayushi      F  25000.0\n",
      "1  EMP02     rohit      M  25000.0\n",
      "2  EMP03  pranjali    NaN  27000.0\n",
      "3  EMP01    ayushi      F  20000.0\n",
      "4  EMP05       NaN      M  25000.0\n",
      "5  EMP06     rohit      M  25000.0\n",
      "6  EMP02     rohit      M  25000.0\n"
     ]
    }
   ],
   "source": [
    "import numpy as np\n",
    "hmd = pd.read_csv('company1.csv')\n",
    "\n",
    "\n",
    "# Mean = the average value (the sum of all values divided by number of values). \n",
    "# Median = the value in the middle, after you have sorted all values ascending.\n",
    "# Mode = the value that appears most frequently.\n",
    "\n",
    "\n",
    "# mean__ = hmd['salary'].median()\n",
    "# m__ = hmd['salary'].mean()\n",
    "mode__ = hmd['salary'].mode()[0] # finding most common value \n",
    "\n",
    "# print(mean__)\n",
    "\n",
    "hmd['salary'] = hmd['salary'].replace(np.nan , mode__ )\n",
    "print(hmd)\n",
    "  \n",
    "\n",
    "\n",
    "\n",
    "\n"
   ]
  },
  {
   "cell_type": "code",
   "execution_count": 57,
   "metadata": {},
   "outputs": [
    {
     "name": "stdout",
     "output_type": "stream",
     "text": [
      "    EEID      Name gender   salary\n",
      "0  EMP01    ayushi      F      NaN\n",
      "1  EMP02     rohit      M  25000.0\n",
      "2  EMP03  pranjali      M  27000.0\n",
      "3  EMP01    ayushi      F  20000.0\n",
      "4  EMP05       NaN      M  25000.0\n",
      "5  EMP06     rohit      M      NaN\n",
      "6  EMP02     rohit      M  25000.0\n"
     ]
    }
   ],
   "source": [
    "\n",
    "# filling null values \n",
    "\n",
    "hmd_ = pd.read_csv('company1.csv')\n",
    "# print(hmd_)\n",
    "# hmd_['gender'] = hmd_['gender'].bfill() # backword fill \n",
    "hmd_['gender'] = hmd_['gender'].ffill() # forward fill \n",
    "print(hmd_)"
   ]
  },
  {
   "cell_type": "code",
   "execution_count": 59,
   "metadata": {},
   "outputs": [
    {
     "name": "stdout",
     "output_type": "stream",
     "text": [
      "     EEID      Full Name            Job Title Department  \\\n",
      "0  E02387    Emily Davis           Sr. Manger         IT   \n",
      "1  E04105  Theodore Dinh  Technical Architect         IT   \n",
      "2  E02572   Luna Sanders             Director    Finance   \n",
      "\n",
      "            Business Unit  Gender  Ethnicity  Age  Hire Date  Annual Salary  \\\n",
      "0  Research & Development  Female      Black   55 2016-04-08         141604   \n",
      "1           Manufacturing    Male      Asian   59 1997-11-29          99975   \n",
      "2     Speciality Products  Female  Caucasian   50 2006-10-26         163099   \n",
      "\n",
      "   Bonus %        Country       City  Exit Date               GetBonus  \n",
      "0     0.15  United States    Seattle 2021-10-16  YES HE/SHE HAS BOUNUS  \n",
      "1     0.00          China  Chongqing        NaT               No bonus  \n",
      "2     0.20  United States    Chicago        NaT  YES HE/SHE HAS BOUNUS  \n"
     ]
    }
   ],
   "source": [
    "\n",
    "# column transformation \n",
    " \n",
    "\n",
    "esd = pd.read_excel('ESD.xlsx')\n",
    " \n",
    "# print(esd)\n",
    "esd.loc[esd['Bonus %'] == 0 , \"GetBonus\"] = \"No bonus\"\n",
    "esd.loc[esd['Bonus %'] > 0 , \"GetBonus\"] = 'YES HE/SHE HAS BOUNUS'\n",
    " \n",
    " \n",
    "print(esd.head(3))"
   ]
  },
  {
   "cell_type": "code",
   "execution_count": 61,
   "metadata": {},
   "outputs": [
    {
     "name": "stdout",
     "output_type": "stream",
     "text": [
      "     EEID        Full Name                 Job Title Department  \\\n",
      "0  E02387      Emily Davis                Sr. Manger         IT   \n",
      "1  E04105    Theodore Dinh       Technical Architect         IT   \n",
      "2  E02572     Luna Sanders                  Director    Finance   \n",
      "3  E02832  Penelope Jordan  Computer Systems Manager         IT   \n",
      "\n",
      "            Business Unit  Gender  Ethnicity                 Age  Hire Date  \\\n",
      "0  Research & Development  Female      Black  CURRENT YEAR - DOB 2016-04-08   \n",
      "1           Manufacturing    Male      Asian  CURRENT YEAR - DOB 1997-11-29   \n",
      "2     Speciality Products  Female  Caucasian  CURRENT YEAR - DOB 2006-10-26   \n",
      "3           Manufacturing  Female  Caucasian  CURRENT YEAR - DOB 2019-09-27   \n",
      "\n",
      "   Annual Salary  Bonus %        Country       City  Exit Date  \\\n",
      "0         141604     0.15  United States    Seattle 2021-10-16   \n",
      "1          99975     0.00          China  Chongqing        NaT   \n",
      "2         163099     0.20  United States    Chicago        NaT   \n",
      "3          84913     0.07  United States    Chicago        NaT   \n",
      "\n",
      "                                              card       tax  \n",
      "0                    E02387 Emily Davis Sr. Manger  127443.6  \n",
      "1         E04105 Theodore Dinh Technical Architect   89977.5  \n",
      "2                     E02572 Luna Sanders Director  146789.1  \n",
      "3  E02832 Penelope Jordan Computer Systems Manager   76421.7  \n"
     ]
    }
   ],
   "source": [
    "\n",
    "#column transformation \n",
    "\n",
    "esd = pd.read_excel('ESD.xlsx')\n",
    " \n",
    "esd['card'] = esd['EEID'] + ' ' + esd['Full Name'].str.title()  + ' ' +  esd['Job Title'] \n",
    "esd['tax'] = esd['Annual Salary'] - ((esd['Annual Salary'] / 100) * 10 )\n",
    " \n",
    "\n",
    "print(esd.head(4))\n"
   ]
  },
  {
   "cell_type": "code",
   "execution_count": 66,
   "metadata": {},
   "outputs": [
    {
     "name": "stdout",
     "output_type": "stream",
     "text": [
      "                                  EEID\n",
      "Department      Ethnicity Gender      \n",
      "Accounting      Asian     Female    22\n",
      "                          Male      19\n",
      "                Black     Female     1\n",
      "                          Male       2\n",
      "                Caucasian Female    17\n",
      "                          Male      15\n",
      "                Latino    Female    13\n",
      "                          Male       7\n",
      "Engineering     Asian     Female    29\n",
      "                          Male      27\n",
      "                Black     Female     3\n",
      "                          Male       4\n",
      "                Caucasian Female    22\n",
      "                          Male      22\n",
      "                Latino    Female    26\n",
      "                          Male      25\n",
      "Finance         Asian     Female    30\n",
      "                          Male      21\n",
      "                Black     Female     6\n",
      "                          Male       3\n",
      "                Caucasian Female    17\n",
      "                          Male      10\n",
      "                Latino    Female    16\n",
      "                          Male      17\n",
      "Human Resources Asian     Female    25\n",
      "                          Male      25\n",
      "                Black     Female     7\n",
      "                          Male       7\n",
      "                Caucasian Female    13\n",
      "                          Male      15\n",
      "                Latino    Female    19\n",
      "                          Male      14\n",
      "IT              Asian     Female    47\n",
      "                          Male      46\n",
      "                Black     Female     7\n",
      "                          Male      13\n",
      "                Caucasian Female    40\n",
      "                          Male      35\n",
      "                Latino    Female    25\n",
      "                          Male      28\n",
      "Marketing       Asian     Female    24\n",
      "                          Male      31\n",
      "                Black     Female     6\n",
      "                          Male       2\n",
      "                Caucasian Female    14\n",
      "                          Male      19\n",
      "                Latino    Female    13\n",
      "                          Male      11\n",
      "Sales           Asian     Female    30\n",
      "                          Male      28\n",
      "                Black     Female     7\n",
      "                          Male       6\n",
      "                Caucasian Female    17\n",
      "                          Male      15\n",
      "                Latino    Female    22\n",
      "                          Male      15\n"
     ]
    }
   ],
   "source": [
    "\n",
    "# summarizing data ( group by )\n",
    "\n",
    "# sum(): Returns the sum of the values.\n",
    "# mean(): Returns the average of the values.\n",
    "# count(): Returns the number of non-NA/null observations.\n",
    "# max(): Returns the maximum value.\n",
    "# min(): Returns the minimum value.\n",
    "# median(): Returns the median value.\n",
    "\n",
    "\n",
    "esd = pd.read_excel('ESD.xlsx')\n",
    " \n",
    "agg_ = esd.groupby(['Department' , 'Ethnicity' , 'Gender']).agg({\"EEID\":\"count\"})\n",
    "# agg_ = esd.groupby(['Department' , 'Ethnicity']).agg({\"EEID\":\"count\"})\n",
    "# agg_ = esd.groupby(['Ethnicity']).agg({\"EEID\":\"count\"})\n",
    "\n",
    "\n",
    "\n",
    "\n",
    "print(agg_)"
   ]
  },
  {
   "cell_type": "code",
   "execution_count": 81,
   "metadata": {},
   "outputs": [
    {
     "name": "stdout",
     "output_type": "stream",
     "text": [
      "   id      names  salary\n",
      "0   1      ahmad   12000\n",
      "1   2    mahmood    1020\n",
      "2   3     khalil   23200\n",
      "3   4   khanwali    2332\n",
      "0   1      ahmad   12000\n",
      "1   2   mahmood2   10000\n",
      "2   3    khalil3    4500\n",
      "3   4  khanwali4    8000\n",
      "0   5          a       1\n",
      "1   6          c       2\n",
      "2   7          c       3\n",
      "3   8          d       4\n"
     ]
    },
    {
     "ename": "",
     "evalue": "",
     "output_type": "error",
     "traceback": [
      "\u001b[1;31mThe Kernel crashed while executing code in the current cell or a previous cell. \n",
      "\u001b[1;31mPlease review the code in the cell(s) to identify a possible cause of the failure. \n",
      "\u001b[1;31mClick <a href='https://aka.ms/vscodeJupyterKernelCrash'>here</a> for more info. \n",
      "\u001b[1;31mView Jupyter <a href='command:jupyter.viewOutput'>log</a> for further details."
     ]
    }
   ],
   "source": [
    "\n",
    "# merging - joining and concatination \n",
    "import pandas as pd \n",
    "\n",
    "\n",
    "employee = {\n",
    "    \"id\": [1,2,3,4], \n",
    "    'names': ['ahmad' , 'mahmood' , 'khalil' , 'khanwali'],\n",
    "    'salary': [12000,1020,23200,2332]\n",
    "}\n",
    "employee2 = {\n",
    "    \"id\": [1,2,3,4],  \n",
    "    'names': ['ahmad' , 'mahmood2' , 'khalil3' , 'khanwali4'],\n",
    "    'salary': [12000,10000,4500,8000], \n",
    "    # 'score': [12,2,233,45]\n",
    "}\n",
    "\n",
    "\n",
    "employee3 = {\n",
    "    \"id\": [5,6,7,8],  \n",
    "    'names': ['a' , 'c' , 'c' , 'd'],\n",
    "    'salary': [1,2,3,4]\n",
    "}\n",
    "\n",
    "df = pd.DataFrame(employee)\n",
    "df1 = pd.DataFrame(employee2)\n",
    "df2 = pd.DataFrame(employee3)\n",
    "# emp = pd.merge(df,df1, on='id')\n",
    "# emp = pd.merge(df,df1, how = \"right\")\n",
    "emp = pd.concat([df,df1, df2])\n",
    " \n",
    "\n",
    "print(emp)\n",
    "\n",
    "\n",
    "\n"
   ]
  },
  {
   "cell_type": "code",
   "execution_count": null,
   "metadata": {},
   "outputs": [],
   "source": []
  }
 ],
 "metadata": {
  "kernelspec": {
   "display_name": ".venv",
   "language": "python",
   "name": "python3"
  },
  "language_info": {
   "codemirror_mode": {
    "name": "ipython",
    "version": 3
   },
   "file_extension": ".py",
   "mimetype": "text/x-python",
   "name": "python",
   "nbconvert_exporter": "python",
   "pygments_lexer": "ipython3",
   "version": "3.11.2"
  }
 },
 "nbformat": 4,
 "nbformat_minor": 2
}

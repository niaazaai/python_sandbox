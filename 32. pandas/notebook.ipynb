{
 "cells": [
  {
   "cell_type": "code",
   "execution_count": 13,
   "metadata": {},
   "outputs": [
    {
     "name": "stdout",
     "output_type": "stream",
     "text": [
      "               Age                   Hire Date  Annual Salary      Bonus %  \\\n",
      "count  1000.000000                        1000    1000.000000  1000.000000   \n",
      "mean     44.382000  2012-04-07 02:54:14.400000  113217.365000     0.088660   \n",
      "min      25.000000         1992-01-09 00:00:00   40063.000000     0.000000   \n",
      "25%      35.000000         2007-02-14 00:00:00   71430.250000     0.000000   \n",
      "50%      45.000000         2014-02-15 12:00:00   96557.000000     0.000000   \n",
      "75%      54.000000         2018-06-22 00:00:00  150782.250000     0.150000   \n",
      "max      65.000000         2021-12-26 00:00:00  258498.000000     0.400000   \n",
      "std      11.246981                         NaN   53545.985644     0.117856   \n",
      "\n",
      "                           Exit Date  \n",
      "count                             85  \n",
      "mean   2016-11-02 18:04:14.117647104  \n",
      "min              1994-12-18 00:00:00  \n",
      "25%              2014-12-25 00:00:00  \n",
      "50%              2019-05-23 00:00:00  \n",
      "75%              2021-04-09 00:00:00  \n",
      "max              2022-08-17 00:00:00  \n",
      "std                              NaN  \n"
     ]
    }
   ],
   "source": [
    "import pandas as pd \n",
    "\n",
    "# data = pd.read_csv('Customers_Data.csv')\n",
    "# data = pd.read_excel('expense.xlsx')\n",
    "data = pd.read_excel('ESD.xlsx')\n",
    "\n",
    "\n",
    "# explore data \n",
    "print(data.head())\n",
    "print(data.tail())\n",
    "print(data.info())\n",
    "print(data.describe())\n",
    "print( data.isnull().sum())\n",
    " \n",
    "\n",
    "\n",
    "\n"
   ]
  },
  {
   "cell_type": "code",
   "execution_count": 1,
   "metadata": {},
   "outputs": [
    {
     "name": "stdout",
     "output_type": "stream",
     "text": [
      "0    False\n",
      "1    False\n",
      "2    False\n",
      "3    False\n",
      "4    False\n",
      "5    False\n",
      "6     True\n",
      "dtype: bool\n"
     ]
    }
   ],
   "source": [
    "import pandas as pd \n",
    "\n",
    "#handling duplicate values \n",
    "data = pd.read_csv('company1.csv')\n",
    "\n",
    "print(data.duplicated() )\n",
    "# print(data['EEID'].duplicated())\n",
    "\n",
    "\n"
   ]
  },
  {
   "cell_type": "code",
   "execution_count": 38,
   "metadata": {},
   "outputs": [
    {
     "name": "stdout",
     "output_type": "stream",
     "text": [
      "    EEID      Name gender   salary\n",
      "0  EMP01    ayushi      F      NaN\n",
      "1  EMP02     rohit      M  25000.0\n",
      "2  EMP03  pranjali    NaN  27000.0\n",
      "3  EMP01    ayushi      F  20000.0\n",
      "4  EMP05       NaN      M  25000.0\n",
      "5  EMP06     rohit      M      NaN\n",
      "6  EMP02     rohit      M  25000.0\n"
     ]
    }
   ],
   "source": [
    "print(data)"
   ]
  },
  {
   "cell_type": "code",
   "execution_count": 9,
   "metadata": {},
   "outputs": [
    {
     "name": "stdout",
     "output_type": "stream",
     "text": [
      "1\n",
      "6\n",
      "5\n",
      "    EEID      Name gender   salary\n",
      "0  EMP01    ayushi      F      NaN\n",
      "1  EMP02     rohit      M  25000.0\n",
      "2  EMP03  pranjali    NaN  27000.0\n",
      "3   <NA>    ayushi      F  20000.0\n",
      "4  EMP05       NaN      M  25000.0\n",
      "5  EMP06     rohit      M      NaN\n",
      "6   <NA>     rohit      M  25000.0\n"
     ]
    }
   ],
   "source": [
    "print(data['EEID'].duplicated().sum())\n",
    "print(data['gender'].count())\n",
    "print(data['salary'].count())\n",
    " \n",
    "print(data)"
   ]
  },
  {
   "cell_type": "code",
   "execution_count": 11,
   "metadata": {},
   "outputs": [
    {
     "name": "stdout",
     "output_type": "stream",
     "text": [
      "    EEID      Name gender   salary\n",
      "0  EMP01    ayushi      F      NaN\n",
      "1  EMP02     rohit      M  25000.0\n",
      "2  EMP03  pranjali    NaN  27000.0\n",
      "3   <NA>    ayushi      F  20000.0\n"
     ]
    }
   ],
   "source": [
    "# print(data.drop_duplicates('EEID'))\n",
    "print(data.drop_duplicates('salary'))"
   ]
  },
  {
   "cell_type": "code",
   "execution_count": 39,
   "metadata": {},
   "outputs": [
    {
     "name": "stdout",
     "output_type": "stream",
     "text": [
      "    EEID      Name gender   salary\n",
      "0  EMP01    ayushi      F      NaN\n",
      "1  EMP02     rohit      M  25000.0\n",
      "2  EMP03  pranjali    NaN  27000.0\n",
      "3  EMP01    ayushi      F  20000.0\n",
      "4  EMP05       NaN      M  25000.0\n",
      "5  EMP06     rohit      M      NaN\n",
      "6  EMP02     rohit      M  25000.0\n"
     ]
    }
   ],
   "source": [
    "\n",
    "\n",
    "#handing missing data \n",
    "\n",
    "\n",
    "hmd = pd.read_csv('company1.csv')\n",
    "print(hmd)"
   ]
  },
  {
   "cell_type": "code",
   "execution_count": 40,
   "metadata": {},
   "outputs": [
    {
     "name": "stdout",
     "output_type": "stream",
     "text": [
      "    EEID   Name  gender  salary\n",
      "0  False  False   False    True\n",
      "1  False  False   False   False\n",
      "2  False  False    True   False\n",
      "3  False  False   False   False\n",
      "4  False   True   False   False\n",
      "5  False  False   False    True\n",
      "6  False  False   False   False\n"
     ]
    }
   ],
   "source": [
    "print(hmd.isnull())"
   ]
  },
  {
   "cell_type": "code",
   "execution_count": 14,
   "metadata": {},
   "outputs": [],
   "source": [
    "hmd = pd.read_csv('company1.csv')\n"
   ]
  },
  {
   "cell_type": "code",
   "execution_count": 41,
   "metadata": {},
   "outputs": [
    {
     "name": "stdout",
     "output_type": "stream",
     "text": [
      "EEID      0\n",
      "Name      1\n",
      "gender    1\n",
      "salary    2\n",
      "dtype: int64\n"
     ]
    }
   ],
   "source": [
    "print(hmd.isnull().sum())"
   ]
  },
  {
   "cell_type": "code",
   "execution_count": 44,
   "metadata": {},
   "outputs": [
    {
     "name": "stdout",
     "output_type": "stream",
     "text": [
      "    EEID    Name gender   salary\n",
      "1  EMP02   rohit      M  25000.0\n",
      "3  EMP01  ayushi      F  20000.0\n",
      "6  EMP02   rohit      M  25000.0\n",
      "    EEID      Name gender   salary\n",
      "0  EMP01    ayushi      F      NaN\n",
      "1  EMP02     rohit      M  25000.0\n",
      "2  EMP03  pranjali    NaN  27000.0\n",
      "3  EMP01    ayushi      F  20000.0\n",
      "4  EMP05       NaN      M  25000.0\n",
      "5  EMP06     rohit      M      NaN\n",
      "6  EMP02     rohit      M  25000.0\n"
     ]
    }
   ],
   "source": [
    "print(hmd.dropna()) # drop null values "
   ]
  },
  {
   "cell_type": "code",
   "execution_count": 17,
   "metadata": {},
   "outputs": [
    {
     "name": "stdout",
     "output_type": "stream",
     "text": [
      "nan\n",
      "    EEID           Name         gender         salary\n",
      "0  EMP01         ayushi              F  default_value\n",
      "1  EMP02          rohit              M        25000.0\n",
      "2  EMP03       pranjali  default_value        27000.0\n",
      "3  EMP01         ayushi              F        20000.0\n",
      "4  EMP05  default_value              M        25000.0\n",
      "5  EMP06          rohit              M  default_value\n",
      "6  EMP02          rohit              M        25000.0\n"
     ]
    }
   ],
   "source": [
    "# replace null values\n",
    "import numpy as np\n",
    "\n",
    " \n",
    "hmd = pd.read_csv('company1.csv')\n",
    "print(hmd.replace(np.nan , 'default_value'))\n",
    "\n",
    "# hmd['Name'] = hmd['Name'].replace(np.nan , 'no-name')\n",
    "# # print(hmd.replace(np.nan , 'default_value'))\n",
    "# print(hmd)\n"
   ]
  },
  {
   "cell_type": "code",
   "execution_count": 18,
   "metadata": {},
   "outputs": [
    {
     "name": "stdout",
     "output_type": "stream",
     "text": [
      "\n",
      "Mean Salary: 24400.0\n",
      "Median Salary: 25000.0\n",
      "Mode Salary: 25000.0\n",
      "\n",
      "Modified DataFrame (after replacing NaN with Mode):\n",
      "    EEID      Name gender   salary\n",
      "0  EMP01    ayushi      F  25000.0\n",
      "1  EMP02     rohit      M  25000.0\n",
      "2  EMP03  pranjali    NaN  27000.0\n",
      "3  EMP01    ayushi      F  20000.0\n",
      "4  EMP05       NaN      M  25000.0\n",
      "5  EMP06     rohit      M  25000.0\n",
      "6  EMP02     rohit      M  25000.0\n"
     ]
    }
   ],
   "source": [
    "import numpy as np\n",
    "hmd = pd.read_csv('company1.csv')\n",
    "\n",
    "\n",
    "# Mean = the average value (the sum of all values divided by number of values). \n",
    "# Median = the value in the middle, after you have sorted all values ascending.\n",
    "# Mode = the value that appears most frequently.\n",
    "\n",
    "\n",
    "# mean__ = hmd['salary'].mean()\n",
    "# mean__ = hmd['salary'].mode()[0] # finding most common value \n",
    "\n",
    "# print(mean__)\n",
    "\n",
    "# hmd['salary'] = hmd['salary'].replace(np.nan , mean__ )\n",
    "# print(hmd)\n",
    "  \n",
    "\n",
    "\n",
    "\n",
    "\n"
   ]
  },
  {
   "cell_type": "code",
   "execution_count": 70,
   "metadata": {},
   "outputs": [
    {
     "name": "stdout",
     "output_type": "stream",
     "text": [
      "    EEID      Name gender   salary\n",
      "0  EMP01    ayushi      F      NaN\n",
      "1  EMP02     rohit      M  25000.0\n",
      "2  EMP03  pranjali      M  27000.0\n",
      "3  EMP01    ayushi      F  20000.0\n",
      "4  EMP05       NaN      M  25000.0\n",
      "5  EMP06     rohit      M      NaN\n",
      "6  EMP02     rohit      M  25000.0\n"
     ]
    }
   ],
   "source": [
    "\n",
    "# filling null values \n",
    "\n",
    "hmd_ = hmd = pd.read_csv('company1.csv')\n",
    "\n",
    "hmd_['gender'] = hmd_['gender'].bfill() # backword fill \n",
    "hmd_['gender'] = hmd_['gender'].ffill() # forward fill \n",
    "print(hmd_)"
   ]
  },
  {
   "cell_type": "code",
   "execution_count": 73,
   "metadata": {},
   "outputs": [
    {
     "name": "stdout",
     "output_type": "stream",
     "text": [
      "     EEID        Full Name                 Job Title  Department  \\\n",
      "0  E02387      Emily Davis                Sr. Manger          IT   \n",
      "1  E04105    Theodore Dinh       Technical Architect          IT   \n",
      "2  E02572     Luna Sanders                  Director     Finance   \n",
      "3  E02832  Penelope Jordan  Computer Systems Manager          IT   \n",
      "4  E01639        Austin Vo               Sr. Analyst     Finance   \n",
      "5  E00644     Joshua Gupta    Account Representative       Sales   \n",
      "6  E01550      Ruby Barnes                   Manager          IT   \n",
      "7  E04332      Luke Martin                   Analyst     Finance   \n",
      "8  E04533    Easton Bailey                   Manager  Accounting   \n",
      "9  E03838  Madeline Walker               Sr. Analyst     Finance   \n",
      "\n",
      "            Business Unit  Gender  Ethnicity  Age  Hire Date  Annual Salary  \\\n",
      "0  Research & Development  Female      Black   55 2016-04-08         141604   \n",
      "1           Manufacturing    Male      Asian   59 1997-11-29          99975   \n",
      "2     Speciality Products  Female  Caucasian   50 2006-10-26         163099   \n",
      "3           Manufacturing  Female  Caucasian   26 2019-09-27          84913   \n",
      "4           Manufacturing    Male      Asian   55 1995-11-20          95409   \n",
      "5               Corporate    Male      Asian   57 2017-01-24          50994   \n",
      "6               Corporate  Female  Caucasian   27 2020-07-01         119746   \n",
      "7           Manufacturing    Male      Black   25 2020-05-16          41336   \n",
      "8           Manufacturing    Male  Caucasian   29 2019-01-25         113527   \n",
      "9     Speciality Products  Female  Caucasian   34 2018-06-13          77203   \n",
      "\n",
      "   Bonus %        Country       City  Exit Date  GetBonus  \n",
      "0     0.15  United States    Seattle 2021-10-16     bonus  \n",
      "1     0.00          China  Chongqing        NaT  No bonus  \n",
      "2     0.20  United States    Chicago        NaT     bonus  \n",
      "3     0.07  United States    Chicago        NaT     bonus  \n",
      "4     0.00  United States    Phoenix        NaT  No bonus  \n",
      "5     0.00          China  Chongqing        NaT  No bonus  \n",
      "6     0.10  United States    Phoenix        NaT     bonus  \n",
      "7     0.00  United States      Miami 2021-05-20  No bonus  \n",
      "8     0.06  United States     Austin        NaT     bonus  \n",
      "9     0.00  United States    Chicago        NaT  No bonus  \n"
     ]
    }
   ],
   "source": [
    "\n",
    "# column transformation \n",
    "\n",
    "\n",
    "esd = pd.read_excel('ESD.xlsx')\n",
    " \n",
    "esd.loc[esd['Bonus %'] == 0 , \"GetBonus\"] = \"No bonus\"\n",
    "esd.loc[esd['Bonus %'] > 0 , \"GetBonus\"] = \"bonus\"\n",
    " \n",
    " \n",
    "print(esd.head(10))"
   ]
  },
  {
   "cell_type": "code",
   "execution_count": 78,
   "metadata": {},
   "outputs": [
    {
     "name": "stdout",
     "output_type": "stream",
     "text": [
      "     EEID        Full Name                 Job Title Department  \\\n",
      "0  E02387      Emily Davis                Sr. Manger         IT   \n",
      "1  E04105    Theodore Dinh       Technical Architect         IT   \n",
      "2  E02572     Luna Sanders                  Director    Finance   \n",
      "3  E02832  Penelope Jordan  Computer Systems Manager         IT   \n",
      "\n",
      "            Business Unit  Gender  Ethnicity  Age  Hire Date  Annual Salary  \\\n",
      "0  Research & Development  Female      Black   55 2016-04-08         141604   \n",
      "1           Manufacturing    Male      Asian   59 1997-11-29          99975   \n",
      "2     Speciality Products  Female  Caucasian   50 2006-10-26         163099   \n",
      "3           Manufacturing  Female  Caucasian   26 2019-09-27          84913   \n",
      "\n",
      "   Bonus %        Country       City  Exit Date  \\\n",
      "0     0.15  United States    Seattle 2021-10-16   \n",
      "1     0.00          China  Chongqing        NaT   \n",
      "2     0.20  United States    Chicago        NaT   \n",
      "3     0.07  United States    Chicago        NaT   \n",
      "\n",
      "                                 describe_employee       tax  \n",
      "0                    E02387 EMILY DAVIS Sr. Manger  127443.6  \n",
      "1         E04105 THEODORE DINH Technical Architect   89977.5  \n",
      "2                     E02572 LUNA SANDERS Director  146789.1  \n",
      "3  E02832 PENELOPE JORDAN Computer Systems Manager   76421.7  \n"
     ]
    }
   ],
   "source": [
    "\n",
    "#column transformation \n",
    "\n",
    "esd = pd.read_excel('ESD.xlsx')\n",
    " \n",
    "esd['describe_employee'] = esd['EEID'] + ' ' + esd['Full Name'].str.upper()  + ' ' +  esd['Job Title'] \n",
    "esd['tax'] = esd['Annual Salary'] - ((esd['Annual Salary'] / 100) * 10 )  \n",
    " \n",
    "\n",
    "print(esd.head(4))\n"
   ]
  },
  {
   "cell_type": "code",
   "execution_count": 22,
   "metadata": {},
   "outputs": [
    {
     "name": "stdout",
     "output_type": "stream",
     "text": [
      "                           EEID\n",
      "Department      Ethnicity      \n",
      "Accounting      Asian        41\n",
      "                Black         3\n",
      "                Caucasian    32\n",
      "                Latino       20\n",
      "Engineering     Asian        56\n",
      "                Black         7\n",
      "                Caucasian    44\n",
      "                Latino       51\n",
      "Finance         Asian        51\n",
      "                Black         9\n",
      "                Caucasian    27\n",
      "                Latino       33\n",
      "Human Resources Asian        50\n",
      "                Black        14\n",
      "                Caucasian    28\n",
      "                Latino       33\n",
      "IT              Asian        93\n",
      "                Black        20\n",
      "                Caucasian    75\n",
      "                Latino       53\n",
      "Marketing       Asian        55\n",
      "                Black         8\n",
      "                Caucasian    33\n",
      "                Latino       24\n",
      "Sales           Asian        58\n",
      "                Black        13\n",
      "                Caucasian    32\n",
      "                Latino       37\n"
     ]
    }
   ],
   "source": [
    "\n",
    "# summarizing data ( group by )\n",
    "\n",
    "# sum(): Returns the sum of the values.\n",
    "# mean(): Returns the average of the values.\n",
    "# count(): Returns the number of non-NA/null observations.\n",
    "# max(): Returns the maximum value.\n",
    "# min(): Returns the minimum value.\n",
    "# median(): Returns the median value.\n",
    "\n",
    "\n",
    "esd = pd.read_excel('ESD.xlsx')\n",
    " \n",
    "agg_ = esd.groupby(['Department' , 'Gender']).agg({\"EEID\":\"count\"})\n",
    "agg_ = esd.groupby(['Department' , 'Ethnicity']).agg({\"EEID\":\"count\"})\n",
    "\n",
    "\n",
    "\n",
    "\n",
    "print(agg_)"
   ]
  },
  {
   "cell_type": "code",
   "execution_count": 32,
   "metadata": {},
   "outputs": [
    {
     "name": "stdout",
     "output_type": "stream",
     "text": [
      "   id  names  salary\n",
      "0   1  ahmad   12000\n",
      "0   1  ahmad   12000\n"
     ]
    }
   ],
   "source": [
    "\n",
    "# merging - joining and concatination \n",
    "import pandas as pd \n",
    "\n",
    "\n",
    "employee = {\n",
    "    \"id\": [1,2,3,4], \n",
    "    'names': ['ahmad' , 'mahmood' , 'khalil' , 'khanwali'],\n",
    "    'salary': [12000,10000,4500,8000]\n",
    "}\n",
    "employee2 = {\n",
    "    \"id\": [1,2,3,4], \n",
    "    'names': ['ahmad' , 'mahmood' , 'khalil' , 'khanwali'],\n",
    "    'salary': [12000,10000,4500,8000]\n",
    "}\n",
    "\n",
    "df = pd.DataFrame(employee)\n",
    "df1 = pd.DataFrame(employee2)\n",
    "emp = pd.merge(df,df1, on='id')\n",
    "emp = pd.merge(df,df1, how='left')\n",
    "\n",
    "emp = pd.concat([df,df1])\n",
    "\n",
    "print(emp.loc[0])\n",
    "\n",
    "\n",
    "\n"
   ]
  },
  {
   "cell_type": "code",
   "execution_count": null,
   "metadata": {},
   "outputs": [],
   "source": []
  }
 ],
 "metadata": {
  "kernelspec": {
   "display_name": ".venv",
   "language": "python",
   "name": "python3"
  },
  "language_info": {
   "codemirror_mode": {
    "name": "ipython",
    "version": 3
   },
   "file_extension": ".py",
   "mimetype": "text/x-python",
   "name": "python",
   "nbconvert_exporter": "python",
   "pygments_lexer": "ipython3",
   "version": "3.11.2"
  }
 },
 "nbformat": 4,
 "nbformat_minor": 2
}
